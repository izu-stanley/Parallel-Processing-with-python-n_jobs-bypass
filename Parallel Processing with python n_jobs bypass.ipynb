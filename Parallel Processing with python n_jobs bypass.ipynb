{
 "cells": [
  {
   "cell_type": "markdown",
   "metadata": {},
   "source": [
    "This notebook shows how you can force all your CPU cores to come alive. \n",
    "Most modules in python run on only 1 core of your comuter so if you have a multicore CPU, a significant portion of your processing power is sitting idle and your code would not be running as fast it should."
   ]
  },
  {
   "cell_type": "markdown",
   "metadata": {},
   "source": [
    "I am using a specific example of hyperparameter tuning for the XGB model, but this method is applicable to any problem. the general idea is the same"
   ]
  },
  {
   "cell_type": "code",
   "execution_count": 10,
   "metadata": {},
   "outputs": [
    {
     "name": "stdout",
     "output_type": "stream",
     "text": [
      "/home/nightking\r\n"
     ]
    }
   ],
   "source": [
    "from multiprocessing import Process, current_process\n",
    "import sys,os,concurrent.futures\n",
    "import pandas as pd\n",
    "import numpy as np\n",
    "import matplotlib.pyplot as plt\n",
    "!pwd\n"
   ]
  },
  {
   "cell_type": "code",
   "execution_count": 2,
   "metadata": {},
   "outputs": [],
   "source": [
    "#CAnt remember where this sample dataset came from. One udemy tutorial sha\n",
    "df = pd.DataFrame({\n",
    "    'R&D Spend' : [165349.2,162597.7,153441.51,144372.41,142107.34,131876.9,134615.46,130298.13,120542.52,123334.88,101913.08,100671.96,93863.75,91992.39,119943.24,114523.61,78013.11,94657.16,91749.16],\n",
    "    'Admin' : [136897.8,151377.59,101145.55,118671.85,91391.77,99814.71,147198.87,145530.06,148718.95,108679.17,110594.11,91790.61,127320.38,135495.07,156547.42,122616.84,121597.55,145077.58,114175.79],\n",
    "    'Profit' : [192261.83,191792.06,191050.39,182901.99,166187.94,156991.12,156122.51,155752.6,152211.77,149759.96,146121.95,144259.4,141585.52,134307.35,132602.65,129917.04,126992.93,125370.37,124266.9]\n",
    "})"
   ]
  },
  {
   "cell_type": "code",
   "execution_count": 3,
   "metadata": {},
   "outputs": [
    {
     "data": {
      "text/html": [
       "<div>\n",
       "<style scoped>\n",
       "    .dataframe tbody tr th:only-of-type {\n",
       "        vertical-align: middle;\n",
       "    }\n",
       "\n",
       "    .dataframe tbody tr th {\n",
       "        vertical-align: top;\n",
       "    }\n",
       "\n",
       "    .dataframe thead th {\n",
       "        text-align: right;\n",
       "    }\n",
       "</style>\n",
       "<table border=\"1\" class=\"dataframe\">\n",
       "  <thead>\n",
       "    <tr style=\"text-align: right;\">\n",
       "      <th></th>\n",
       "      <th>R&amp;D Spend</th>\n",
       "      <th>Admin</th>\n",
       "      <th>Profit</th>\n",
       "    </tr>\n",
       "  </thead>\n",
       "  <tbody>\n",
       "    <tr>\n",
       "      <th>0</th>\n",
       "      <td>165349.20</td>\n",
       "      <td>136897.80</td>\n",
       "      <td>192261.83</td>\n",
       "    </tr>\n",
       "    <tr>\n",
       "      <th>1</th>\n",
       "      <td>162597.70</td>\n",
       "      <td>151377.59</td>\n",
       "      <td>191792.06</td>\n",
       "    </tr>\n",
       "    <tr>\n",
       "      <th>2</th>\n",
       "      <td>153441.51</td>\n",
       "      <td>101145.55</td>\n",
       "      <td>191050.39</td>\n",
       "    </tr>\n",
       "    <tr>\n",
       "      <th>3</th>\n",
       "      <td>144372.41</td>\n",
       "      <td>118671.85</td>\n",
       "      <td>182901.99</td>\n",
       "    </tr>\n",
       "    <tr>\n",
       "      <th>4</th>\n",
       "      <td>142107.34</td>\n",
       "      <td>91391.77</td>\n",
       "      <td>166187.94</td>\n",
       "    </tr>\n",
       "  </tbody>\n",
       "</table>\n",
       "</div>"
      ],
      "text/plain": [
       "   R&D Spend      Admin     Profit\n",
       "0  165349.20  136897.80  192261.83\n",
       "1  162597.70  151377.59  191792.06\n",
       "2  153441.51  101145.55  191050.39\n",
       "3  144372.41  118671.85  182901.99\n",
       "4  142107.34   91391.77  166187.94"
      ]
     },
     "execution_count": 3,
     "metadata": {},
     "output_type": "execute_result"
    }
   ],
   "source": [
    "df.head()"
   ]
  },
  {
   "cell_type": "code",
   "execution_count": 4,
   "metadata": {},
   "outputs": [],
   "source": [
    "X = df[['R&D Spend', 'Admin']]\n",
    "y = df[['Profit']]"
   ]
  },
  {
   "cell_type": "code",
   "execution_count": 6,
   "metadata": {},
   "outputs": [],
   "source": [
    "from sklearn.model_selection import train_test_split\n",
    "X_train, X_test, y_train, y_test = train_test_split(X, y, test_size = 0.2, random_state = 2018)\n"
   ]
  },
  {
   "cell_type": "markdown",
   "metadata": {},
   "source": [
    "What I want to do is to find the best \"n_estimator\" parameter for RF. of course you can try different values one by one or you can run grid search but thats annoyingly slow. this is a hack but it works with a bit of tuning."
   ]
  },
  {
   "cell_type": "code",
   "execution_count": 7,
   "metadata": {},
   "outputs": [],
   "source": [
    "#I created an array to hold the tree number i would pass to the 'n_estimators' parameter. \n",
    "#Say I already have an idea that the optimum parameter is within 10 and 1000. I want to increase in steps of 50\n",
    "value = []\n",
    "for i in range(10,1000,10):\n",
    "    value.append(i)\n"
   ]
  },
  {
   "cell_type": "raw",
   "metadata": {},
   "source": [
    "The logic is to use a helper function, in my case, mdl which takes a parameter x, and give this function to the Process pool executor. Dont know the theory but that class can boot up all your cpu cores at once. You pass in the helper function as an argument and the helper functions parameter as the second argument. if you have multiple arguements you'd have to pass in an array and also modify the helper fucntion to expect an array"
   ]
  },
  {
   "cell_type": "code",
   "execution_count": 8,
   "metadata": {},
   "outputs": [],
   "source": [
    "from sklearn.metrics import mean_absolute_error\n",
    "import xgboost as xgb\n",
    "\n",
    "#Helper function\n",
    "def mdl(x):\n",
    "    regressor = xgb.XGBRegressor(n_estimators=x,learning_rate=0.1,random_state=1)\n",
    "    regressor.fit(X_train, y_train)\n",
    "    y_pred = regressor.predict(X_test)\n",
    "    return regressor.score(X_test,y_test)\n",
    "#Yes, the score function takes in the test dataset and compares the results. Again don't know thte theory \n",
    "#But it returns a value between 0 and 1 where higher is better."
   ]
  },
  {
   "cell_type": "code",
   "execution_count": 26,
   "metadata": {},
   "outputs": [
    {
     "name": "stdout",
     "output_type": "stream",
     "text": [
      "Calculating:  10 Result:  -6.697986348968629\n",
      "Calculating:  20 Result:  -0.5579230495355425\n",
      "Calculating:  30 Result:  0.3870663507526847\n",
      "Calculating:  40 Result:  0.6095762518212652\n",
      "Calculating:  50 Result:  0.6858275403650672\n",
      "Calculating:  60 Result:  0.70031224943916\n",
      "Calculating:  70 Result:  0.705021549287917\n",
      "Calculating:  80 Result:  0.7058361164147802\n",
      "Calculating:  90 Result:  0.7078567538460697\n",
      "Calculating:  100 Result:  0.7091697734224021\n",
      "Calculating:  110 Result:  0.7103489950979269\n",
      "Calculating:  120 Result:  0.7099373448091849\n",
      "Calculating:  130 Result:  0.7093869755298285\n",
      "Calculating:  140 Result:  0.7095141558863793\n",
      "Calculating:  150 Result:  0.7094373358284705\n",
      "Calculating:  160 Result:  0.7094808939672018\n",
      "Calculating:  170 Result:  0.7093375021031172\n",
      "Calculating:  180 Result:  0.7091045845805586\n",
      "Calculating:  190 Result:  0.7090129563326939\n",
      "Calculating:  200 Result:  0.7089498831498237\n",
      "Calculating:  210 Result:  0.7089551022201035\n",
      "Calculating:  220 Result:  0.7089363545349354\n",
      "Calculating:  230 Result:  0.7089556781814078\n",
      "Calculating:  240 Result:  0.7089491402603898\n",
      "Calculating:  250 Result:  0.7089331684857805\n",
      "Calculating:  260 Result:  0.7089242632168546\n",
      "Calculating:  270 Result:  0.7089275160998505\n",
      "Calculating:  280 Result:  0.7089199967707351\n",
      "Calculating:  290 Result:  0.7089208417799903\n",
      "Calculating:  300 Result:  0.708917280392713\n",
      "Calculating:  310 Result:  0.7089140495696014\n",
      "Calculating:  320 Result:  0.7089121311352615\n",
      "Calculating:  330 Result:  0.7089107400710732\n",
      "Calculating:  340 Result:  0.7089089937452261\n",
      "Calculating:  350 Result:  0.7089078883668734\n",
      "Calculating:  360 Result:  0.7089078838070347\n",
      "Calculating:  370 Result:  0.7089079387208852\n",
      "Calculating:  380 Result:  0.7089070454895864\n",
      "Calculating:  390 Result:  0.7089061425818797\n",
      "Calculating:  400 Result:  0.708905940918704\n",
      "Calculating:  410 Result:  0.7089060125896736\n",
      "Calculating:  420 Result:  0.7089060125896736\n",
      "Calculating:  430 Result:  0.7089060125896736\n",
      "Calculating:  440 Result:  0.7089060125896736\n",
      "Calculating:  450 Result:  0.7089060125896736\n",
      "Calculating:  460 Result:  0.7089060125896736\n",
      "Calculating:  470 Result:  0.7089060125896736\n",
      "Calculating:  480 Result:  0.7089060125896736\n",
      "Calculating:  490 Result:  0.7089060125896736\n",
      "Calculating:  500 Result:  0.7089060125896736\n",
      "Calculating:  510 Result:  0.7089060125896736\n",
      "Calculating:  520 Result:  0.7089060125896736\n",
      "Calculating:  530 Result:  0.7089060125896736\n",
      "Calculating:  540 Result:  0.7089060125896736\n",
      "Calculating:  550 Result:  0.7089060125896736\n",
      "Calculating:  560 Result:  0.7089060125896736\n",
      "Calculating:  570 Result:  0.7089060125896736\n",
      "Calculating:  580 Result:  0.7089060125896736\n",
      "Calculating:  590 Result:  0.7089060125896736\n",
      "Calculating:  600 Result:  0.7089060125896736\n",
      "Calculating:  610 Result:  0.7089060125896736\n",
      "Calculating:  620 Result:  0.7089060125896736\n",
      "Calculating:  630 Result:  0.7089060125896736\n",
      "Calculating:  640 Result:  0.7089060125896736\n",
      "Calculating:  650 Result:  0.7089060125896736\n",
      "Calculating:  660 Result:  0.7089060125896736\n",
      "Calculating:  670 Result:  0.7089060125896736\n",
      "Calculating:  680 Result:  0.7089060125896736\n",
      "Calculating:  690 Result:  0.7089060125896736\n",
      "Calculating:  700 Result:  0.7089060125896736\n",
      "Calculating:  710 Result:  0.7089060125896736\n",
      "Calculating:  720 Result:  0.7089060125896736\n",
      "Calculating:  730 Result:  0.7089060125896736\n",
      "Calculating:  740 Result:  0.7089060125896736\n",
      "Calculating:  750 Result:  0.7089060125896736\n",
      "Calculating:  760 Result:  0.7089060125896736\n",
      "Calculating:  770 Result:  0.7089060125896736\n",
      "Calculating:  780 Result:  0.7089060125896736\n",
      "Calculating:  790 Result:  0.7089060125896736\n",
      "Calculating:  800 Result:  0.7089060125896736\n",
      "Calculating:  810 Result:  0.7089060125896736\n",
      "Calculating:  820 Result:  0.7089060125896736\n",
      "Calculating:  830 Result:  0.7089060125896736\n",
      "Calculating:  840 Result:  0.7089060125896736\n",
      "Calculating:  850 Result:  0.7089060125896736\n",
      "Calculating:  860 Result:  0.7089060125896736\n",
      "Calculating:  870 Result:  0.7089060125896736\n",
      "Calculating:  880 Result:  0.7089060125896736\n",
      "Calculating:  890 Result:  0.7089060125896736\n",
      "Calculating:  900 Result:  0.7089060125896736\n",
      "Calculating:  910 Result:  0.7089060125896736\n",
      "Calculating:  920 Result:  0.7089060125896736\n",
      "Calculating:  930 Result:  0.7089060125896736\n",
      "Calculating:  940 Result:  0.7089060125896736\n",
      "Calculating:  950 Result:  0.7089060125896736\n",
      "Calculating:  960 Result:  0.7089060125896736\n",
      "Calculating:  970 Result:  0.7089060125896736\n",
      "Calculating:  980 Result:  0.7089060125896736\n",
      "Calculating:  990 Result:  0.7089060125896736\n"
     ]
    },
    {
     "data": {
      "image/png": "[encoded data removed]",
      "text/plain": [
       "<Figure size 432x288 with 1 Axes>"
      ]
     },
     "metadata": {},
     "output_type": "display_data"
    }
   ],
   "source": [
    "#Process pool executor class.\n",
    "#Paralleling to speed up execution time\n",
    "#At the end I decided to view the results on a plot as to gain insight into where the best performance is.\n",
    "#Notice i'm using the r2 score as a measure of performance which the helper function returns. \n",
    "#Higher is better\n",
    "with concurrent.futures.ProcessPoolExecutor() as executor:\n",
    "    params = value \n",
    "    for x, y in zip(params, executor.map(mdl, params)):\n",
    "        print('Calculating: ',x, 'Result: ',y)\n",
    "        plt.scatter(x,y, color = 'red')\n"
   ]
  },
  {
   "cell_type": "markdown",
   "metadata": {},
   "source": [
    "The process pool executor class is what does all the magic here\n",
    "\n"
   ]
  },
  {
   "cell_type": "code",
   "execution_count": null,
   "metadata": {},
   "outputs": [],
   "source": []
  },
  {
   "cell_type": "code",
   "execution_count": null,
   "metadata": {},
   "outputs": [],
   "source": []
  }
 ],
 "metadata": {
  "kernelspec": {
   "display_name": "Python 3",
   "language": "python",
   "name": "python3"
  },
  "language_info": {
   "codemirror_mode": {
    "name": "ipython",
    "version": 3
   },
   "file_extension": ".py",
   "mimetype": "text/x-python",
   "name": "python",
   "nbconvert_exporter": "python",
   "pygments_lexer": "ipython3",
   "version": "3.6.5"
  }
 },
 "nbformat": 4,
 "nbformat_minor": 2
}
